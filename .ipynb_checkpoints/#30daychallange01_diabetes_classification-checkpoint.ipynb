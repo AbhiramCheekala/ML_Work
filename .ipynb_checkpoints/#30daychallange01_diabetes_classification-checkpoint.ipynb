{
 "cells": [
  {
   "cell_type": "code",
   "execution_count": 1,
   "id": "b350c89b",
   "metadata": {},
   "outputs": [],
   "source": [
    "import pandas as pd\n",
    "import numpy as np\n",
    "import matplotlib.pyplot as plt\n",
    "\n",
    "\n",
    "from sklearn.neighbors import KNeighborsClassifier\n",
    "from sklearn.model_selection import train_test_split\n",
    "from sklearn.metrics import accuracy_score\n"
   ]
  },
  {
   "cell_type": "code",
   "execution_count": 4,
   "id": "6aee839e",
   "metadata": {},
   "outputs": [
    {
     "name": "stdout",
     "output_type": "stream",
     "text": [
      "     Pregnancies  Glucose  BloodPressure  SkinThickness  Insulin   BMI  \\\n",
      "0              6    148.0             72             35        0  33.6   \n",
      "1              1     85.0             66             29        0   NaN   \n",
      "2              8    183.0             64              0        0  23.3   \n",
      "3              1     89.0             66             23       94  28.1   \n",
      "4              0    137.0             40             35      168  43.1   \n",
      "..           ...      ...            ...            ...      ...   ...   \n",
      "763           10    101.0             76             48      180  32.9   \n",
      "764            2    122.0             70             27        0  36.8   \n",
      "765            5    121.0             72             23      112  26.2   \n",
      "766            1    126.0             60              0        0  30.1   \n",
      "767            1     93.0             70             31        0  30.4   \n",
      "\n",
      "     DiabetesPedigreeFunction   Age  Outcome  \n",
      "0                       0.627  50.0        1  \n",
      "1                       0.351  31.0        0  \n",
      "2                       0.672  32.0        1  \n",
      "3                       0.167  21.0        0  \n",
      "4                       2.288  33.0        1  \n",
      "..                        ...   ...      ...  \n",
      "763                     0.171  63.0        0  \n",
      "764                     0.340  27.0        0  \n",
      "765                     0.245  30.0        0  \n",
      "766                     0.349  47.0        1  \n",
      "767                     0.315  23.0        0  \n",
      "\n",
      "[768 rows x 9 columns]\n"
     ]
    }
   ],
   "source": [
    "df = pd.read_csv(r\"C:\\Users\\Abhiram_cheekala\\Desktop\\ML_Work\\30days_challenge_01\\diabetes.csv\")\n",
    "print(df)"
   ]
  },
  {
   "cell_type": "code",
   "execution_count": 5,
   "id": "373b7f2b",
   "metadata": {},
   "outputs": [
    {
     "data": {
      "text/plain": [
       "Pregnancies                 0\n",
       "Glucose                     7\n",
       "BloodPressure               0\n",
       "SkinThickness               0\n",
       "Insulin                     0\n",
       "BMI                         5\n",
       "DiabetesPedigreeFunction    0\n",
       "Age                         9\n",
       "Outcome                     0\n",
       "dtype: int64"
      ]
     },
     "execution_count": 5,
     "metadata": {},
     "output_type": "execute_result"
    }
   ],
   "source": [
    "df.isnull().sum()"
   ]
  },
  {
   "cell_type": "code",
   "execution_count": 8,
   "id": "2a791f2c",
   "metadata": {},
   "outputs": [],
   "source": [
    "## Filling the NUll Values with Mean\n",
    "mean1=df['Glucose'].mean()\n",
    "mean2=df['BMI'].mean()\n",
    "mean3=df['Age'].mean()\n",
    "df['Glucose'].fillna(value=mean1, inplace=True)\n",
    "df['BMI'].fillna(value=mean2, inplace=True)\n",
    "df['Age'].fillna(value=mean3, inplace=True)\n",
    "\n"
   ]
  },
  {
   "cell_type": "code",
   "execution_count": null,
   "id": "1b171806",
   "metadata": {},
   "outputs": [],
   "source": []
  },
  {
   "cell_type": "code",
   "execution_count": null,
   "id": "b936a5c5",
   "metadata": {},
   "outputs": [],
   "source": []
  },
  {
   "cell_type": "code",
   "execution_count": null,
   "id": "8426cf25",
   "metadata": {},
   "outputs": [],
   "source": []
  },
  {
   "cell_type": "code",
   "execution_count": 9,
   "id": "fbc29486",
   "metadata": {},
   "outputs": [],
   "source": [
    "knnclassification=KNeighborsClassifier(n_neighbors=3)\n",
    "x_train, x_test, y_train, y_test = train_test_split(df[['Pregnancies','Glucose','BloodPressure','SkinThickness','Insulin','BMI','DiabetesPedigreeFunction','Age']], df['Outcome'], test_size=0.2, random_state=42)"
   ]
  },
  {
   "cell_type": "code",
   "execution_count": 10,
   "id": "a308ae1b",
   "metadata": {},
   "outputs": [
    {
     "name": "stdout",
     "output_type": "stream",
     "text": [
      "[0 1 0 1 1 1 0 0 1 1 0 1 0 0 0 1 0 0 1 1 1 0 1 0 1 1 0 0 0 0 1 0 1 1 0 1 1\n",
      " 0 0 1 0 1 1 1 0 0 0 0 0 1 0 1 1 0 0 0 0 0 0 1 1 1 1 0 0 1 0 0 0 1 1 0 0 0\n",
      " 0 1 0 0 0 0 1 0 0 1 0 1 1 0 0 0 0 0 0 0 1 1 1 0 1 1 1 0 0 0 1 1 0 1 0 1 0\n",
      " 1 0 1 1 1 1 0 0 0 0 0 1 0 1 1 0 1 1 1 1 0 1 1 1 0 0 1 1 0 0 0 0 1 0 0 0 0\n",
      " 1 1 0 0 1 0]\n"
     ]
    },
    {
     "name": "stderr",
     "output_type": "stream",
     "text": [
      "C:\\Users\\Abhiram_cheekala\\anaconda3\\lib\\site-packages\\sklearn\\neighbors\\_classification.py:228: FutureWarning: Unlike other reduction functions (e.g. `skew`, `kurtosis`), the default behavior of `mode` typically preserves the axis it acts along. In SciPy 1.11.0, this behavior will change: the default value of `keepdims` will become False, the `axis` over which the statistic is taken will be eliminated, and the value None will no longer be accepted. Set `keepdims` to True or False to avoid this warning.\n",
      "  mode, _ = stats.mode(_y[neigh_ind, k], axis=1)\n"
     ]
    }
   ],
   "source": [
    "knnclassification.fit(x_train,y_train)\n",
    "y_predict = knnclassification.predict(x_test)\n",
    "print(y_predict)\n"
   ]
  },
  {
   "cell_type": "code",
   "execution_count": 11,
   "id": "5cf8abc1",
   "metadata": {},
   "outputs": [
    {
     "name": "stdout",
     "output_type": "stream",
     "text": [
      "Accuracy: 64.94%\n"
     ]
    }
   ],
   "source": [
    "accuracy = accuracy_score(y_test, y_predict)\n",
    "\n",
    "print(f\"Accuracy: {accuracy * 100:.2f}%\")"
   ]
  },
  {
   "cell_type": "code",
   "execution_count": 9,
   "id": "6d91bd63",
   "metadata": {},
   "outputs": [],
   "source": [
    "from sklearn import svm"
   ]
  },
  {
   "cell_type": "code",
   "execution_count": 28,
   "id": "ee535caa",
   "metadata": {},
   "outputs": [
    {
     "name": "stdout",
     "output_type": "stream",
     "text": [
      "Accuracy: 75.97%\n"
     ]
    }
   ],
   "source": [
    "clf = svm.SVC(kernel='poly', C=1)\n",
    "x_train, x_test, y_train, y_test = train_test_split(df[['Pregnancies','Glucose','BloodPressure','SkinThickness','Insulin','BMI','DiabetesPedigreeFunction','Age']], df['Outcome'], test_size=0.2, random_state=42)\n",
    "clf.fit(x_train, y_train)\n",
    "\n",
    "# Make predictions on the test data\n",
    "y_pred = clf.predict(x_test)\n",
    "\n",
    "# Calculate accuracy\n",
    "accuracy = accuracy_score(y_test, y_pred)\n",
    "print(f\"Accuracy: {accuracy * 100:.2f}%\")\n"
   ]
  },
  {
   "cell_type": "code",
   "execution_count": 20,
   "id": "c3d79bea",
   "metadata": {},
   "outputs": [
    {
     "data": {
      "image/png": "[encoded data removed]",
      "text/plain": [
       "<Figure size 640x480 with 1 Axes>"
      ]
     },
     "metadata": {},
     "output_type": "display_data"
    }
   ],
   "source": [
    "import matplotlib.pyplot as plt\n",
    "import numpy as np\n",
    "\n",
    "# Generate some example data (replace this with your actual data)\n",
    "ages = df['BMI']  # Example ages between 20 and 70\n",
    "outcomes = df['Outcome']  # Example outcomes (0 or 1)\n",
    "\n",
    "# Define the age bins\n",
    "age_bins = [0, 30, 40, 50, 60, 70,100]\n",
    "\n",
    "# Categorize ages into bins\n",
    "age_groups = np.digitize(ages, age_bins, right=True)\n",
    "\n",
    "# Count outcomes in each age group\n",
    "counts_0 = [np.sum(outcomes[age_groups == i] == 0) for i in range(1, len(age_bins))]\n",
    "counts_1 = [np.sum(outcomes[age_groups == i] == 1) for i in range(1, len(age_bins))]\n",
    "\n",
    "# Define the labels for the x-axis\n",
    "labels = [f'{age_bins[i-1]}-{age_bins[i]}' for i in range(1, len(age_bins))]\n",
    "\n",
    "# Set up the bar positions\n",
    "x = np.arange(len(labels))\n",
    "\n",
    "# Create the bar plot\n",
    "width = 0.35\n",
    "fig, ax = plt.subplots()\n",
    "rects1 = ax.bar(x - width/2, counts_0, width, label='Outcome 0')\n",
    "rects2 = ax.bar(x + width/2, counts_1, width, label='Outcome 1')\n",
    "\n",
    "# Add some text for labels, title and custom x-axis tick labels, etc.\n",
    "ax.set_xlabel('Age Group')\n",
    "ax.set_ylabel('Count')\n",
    "ax.set_title('Diabetes by Age Group')\n",
    "ax.set_xticks(x)\n",
    "ax.set_xticklabels(labels)\n",
    "ax.legend()\n",
    "\n",
    "# Display the plot\n",
    "plt.show()\n"
   ]
  },
  {
   "cell_type": "code",
   "execution_count": 29,
   "id": "06be8a7d",
   "metadata": {},
   "outputs": [
    {
     "name": "stdout",
     "output_type": "stream",
     "text": [
      "[0 1 2 3]\n"
     ]
    },
    {
     "data": {
      "image/png": "[encoded data removed]",
      "text/plain": [
       "<Figure size 640x480 with 1 Axes>"
      ]
     },
     "metadata": {},
     "output_type": "display_data"
    }
   ],
   "source": [
    "bmi = df['BMI']  # Example ages between 20 and 70\n",
    "outcomes = df['Outcome']  # Example outcomes (0 or 1)\n",
    "\n",
    "# Define the age bins\n",
    "bmi_bins = [0, 20, 40, 50, 62]\n",
    "\n",
    "# Categorize ages into bins\n",
    "bmi_groups = np.digitize(bmi, bmi_bins, right=True)\n",
    "\n",
    "# Count outcomes in each age group\n",
    "counts_0 = [np.sum(outcomes[bmi_groups == i] == 0) for i in range(1, len(bmi_bins))]\n",
    "counts_1 = [np.sum(outcomes[bmi_groups == i] == 1) for i in range(1, len(bmi_bins))]\n",
    "\n",
    "# Define the labels for the x-axis\n",
    "labels = [f'{bmi_bins[i-1]}-{bmi_bins[i]}' for i in range(1, len(bmi_bins))]\n",
    "\n",
    "# Set up the bar positions\n",
    "x = np.arange(len(labels))\n",
    "print(x)\n",
    "# Create the bar plot\n",
    "width = 0.35\n",
    "fig, ax = plt.subplots()\n",
    "rects1 = ax.bar(x - width/2, counts_0, width, label='Outcome 0')\n",
    "rects2 = ax.bar(x + width/2, counts_1, width, label='Outcome 1')\n",
    "\n",
    "# Add some text for labels, title and custom x-axis tick labels, etc.\n",
    "ax.set_xlabel('BMi Group')\n",
    "ax.set_ylabel('Count')\n",
    "ax.set_title('Diabetes by BMI Group')\n",
    "ax.set_xticks(x)\n",
    "ax.set_xticklabels(labels)\n",
    "ax.legend()\n",
    "\n",
    "# Display the plot\n",
    "plt.show()\n",
    "\n"
   ]
  },
  {
   "cell_type": "code",
   "execution_count": 37,
   "id": "6213b182",
   "metadata": {},
   "outputs": [
    {
     "data": {
      "image/png": "[encoded data removed]",
      "text/plain": [
       "<Figure size 640x480 with 1 Axes>"
      ]
     },
     "metadata": {},
     "output_type": "display_data"
    }
   ],
   "source": [
    "ages = df['Glucose']  # Example ages between 20 and 70\n",
    "outcomes = df['Outcome']  # Example outcomes (0 or 1)\n",
    "\n",
    "# Define the age bins\n",
    "age_bins = [90, 120, 150, 180,210]\n",
    "\n",
    "# Categorize ages into bins\n",
    "age_groups = np.digitize(ages, age_bins, right=True)\n",
    "\n",
    "# Count outcomes in each age group\n",
    "counts_0 = [np.sum(outcomes[age_groups == i] == 0) for i in range(1, len(age_bins))]\n",
    "counts_1 = [np.sum(outcomes[age_groups == i] == 1) for i in range(1, len(age_bins))]\n",
    "\n",
    "# Define the labels for the x-axis\n",
    "labels = [f'{age_bins[i-1]}-{age_bins[i]}' for i in range(1, len(age_bins))]\n",
    "\n",
    "# Set up the bar positions\n",
    "x = np.arange(len(labels))\n",
    "\n",
    "# Create the bar plot\n",
    "width = 0.35\n",
    "fig, ax = plt.subplots()\n",
    "rects1 = ax.bar(x - width/2, counts_0, width, label='Outcome 0')\n",
    "rects2 = ax.bar(x + width/2, counts_1, width, label='Outcome 1')\n",
    "\n",
    "# Add some text for labels, title and custom x-axis tick labels, etc.\n",
    "ax.set_xlabel('Glucose')\n",
    "ax.set_ylabel('Count')\n",
    "ax.set_title('Diabetes Vs Glucose')\n",
    "ax.set_xticks(x)\n",
    "ax.set_xticklabels(labels)\n",
    "ax.legend()\n",
    "\n",
    "# Display the plot\n",
    "plt.show()"
   ]
  },
  {
   "cell_type": "code",
   "execution_count": null,
   "id": "34aff558",
   "metadata": {},
   "outputs": [],
   "source": []
  },
  {
   "cell_type": "code",
   "execution_count": null,
   "id": "3a41ffdc",
   "metadata": {},
   "outputs": [],
   "source": []
  }
 ],
 "metadata": {
  "kernelspec": {
   "display_name": "Python 3 (ipykernel)",
   "language": "python",
   "name": "python3"
  },
  "language_info": {
   "codemirror_mode": {
    "name": "ipython",
    "version": 3
   },
   "file_extension": ".py",
   "mimetype": "text/x-python",
   "name": "python",
   "nbconvert_exporter": "python",
   "pygments_lexer": "ipython3",
   "version": "3.9.13"
  }
 },
 "nbformat": 4,
 "nbformat_minor": 5
}
